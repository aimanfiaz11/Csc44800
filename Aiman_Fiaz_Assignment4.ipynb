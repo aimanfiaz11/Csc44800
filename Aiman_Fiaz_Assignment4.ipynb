{
  "cells": [
    {
      "cell_type": "markdown",
      "source": [
        "[![Open in Colab](https://colab.research.google.com/assets/colab-badge.svg)](https://colab.research.google.com/github/aimanfiaz11/Csc44800/blob/main/Aiman_Fiaz-Assignment4.ipynb)\n",
        "\n"
      ],
      "metadata": {
        "id": "CE7p1LlErEct"
      },
      "id": "CE7p1LlErEct"
    },
    {
      "cell_type": "code",
      "execution_count": null,
      "id": "0f15f477",
      "metadata": {
        "id": "0f15f477"
      },
      "outputs": [],
      "source": [
        "import pandas as pd\n",
        "import numpy as np\n",
        "from sklearn.datasets import load_iris\n",
        "from sklearn.preprocessing import StandardScaler\n",
        "from sklearn.linear_model import LogisticRegression\n",
        "from sklearn.svm import SVC\n",
        "from sklearn.neural_network import MLPClassifier\n",
        "from sklearn.neighbors import KNeighborsClassifier\n",
        "from sklearn.model_selection import train_test_split\n",
        "from sklearn.metrics import accuracy_score,classification_report,confusion_matrix"
      ]
    },
    {
      "cell_type": "markdown",
      "id": "d714ec3d",
      "metadata": {
        "id": "d714ec3d"
      },
      "source": [
        "### Loading dataset"
      ]
    },
    {
      "cell_type": "code",
      "execution_count": null,
      "id": "c37e1974",
      "metadata": {
        "id": "c37e1974"
      },
      "outputs": [],
      "source": [
        "data=load_iris()\n",
        "X=data.data\n",
        "y=data.target"
      ]
    },
    {
      "cell_type": "code",
      "execution_count": null,
      "id": "4369979a",
      "metadata": {
        "id": "4369979a",
        "outputId": "d2ff6844-2c0a-41cf-f335-437312a1ecc5"
      },
      "outputs": [
        {
          "data": {
            "text/plain": [
              "array([[5.1, 3.5, 1.4, 0.2],\n",
              "       [4.9, 3. , 1.4, 0.2],\n",
              "       [4.7, 3.2, 1.3, 0.2],\n",
              "       [4.6, 3.1, 1.5, 0.2],\n",
              "       [5. , 3.6, 1.4, 0.2],\n",
              "       [5.4, 3.9, 1.7, 0.4],\n",
              "       [4.6, 3.4, 1.4, 0.3],\n",
              "       [5. , 3.4, 1.5, 0.2],\n",
              "       [4.4, 2.9, 1.4, 0.2],\n",
              "       [4.9, 3.1, 1.5, 0.1],\n",
              "       [5.4, 3.7, 1.5, 0.2],\n",
              "       [4.8, 3.4, 1.6, 0.2],\n",
              "       [4.8, 3. , 1.4, 0.1],\n",
              "       [4.3, 3. , 1.1, 0.1],\n",
              "       [5.8, 4. , 1.2, 0.2],\n",
              "       [5.7, 4.4, 1.5, 0.4],\n",
              "       [5.4, 3.9, 1.3, 0.4],\n",
              "       [5.1, 3.5, 1.4, 0.3],\n",
              "       [5.7, 3.8, 1.7, 0.3],\n",
              "       [5.1, 3.8, 1.5, 0.3],\n",
              "       [5.4, 3.4, 1.7, 0.2],\n",
              "       [5.1, 3.7, 1.5, 0.4],\n",
              "       [4.6, 3.6, 1. , 0.2],\n",
              "       [5.1, 3.3, 1.7, 0.5],\n",
              "       [4.8, 3.4, 1.9, 0.2],\n",
              "       [5. , 3. , 1.6, 0.2],\n",
              "       [5. , 3.4, 1.6, 0.4],\n",
              "       [5.2, 3.5, 1.5, 0.2],\n",
              "       [5.2, 3.4, 1.4, 0.2],\n",
              "       [4.7, 3.2, 1.6, 0.2],\n",
              "       [4.8, 3.1, 1.6, 0.2],\n",
              "       [5.4, 3.4, 1.5, 0.4],\n",
              "       [5.2, 4.1, 1.5, 0.1],\n",
              "       [5.5, 4.2, 1.4, 0.2],\n",
              "       [4.9, 3.1, 1.5, 0.2],\n",
              "       [5. , 3.2, 1.2, 0.2],\n",
              "       [5.5, 3.5, 1.3, 0.2],\n",
              "       [4.9, 3.6, 1.4, 0.1],\n",
              "       [4.4, 3. , 1.3, 0.2],\n",
              "       [5.1, 3.4, 1.5, 0.2],\n",
              "       [5. , 3.5, 1.3, 0.3],\n",
              "       [4.5, 2.3, 1.3, 0.3],\n",
              "       [4.4, 3.2, 1.3, 0.2],\n",
              "       [5. , 3.5, 1.6, 0.6],\n",
              "       [5.1, 3.8, 1.9, 0.4],\n",
              "       [4.8, 3. , 1.4, 0.3],\n",
              "       [5.1, 3.8, 1.6, 0.2],\n",
              "       [4.6, 3.2, 1.4, 0.2],\n",
              "       [5.3, 3.7, 1.5, 0.2],\n",
              "       [5. , 3.3, 1.4, 0.2],\n",
              "       [7. , 3.2, 4.7, 1.4],\n",
              "       [6.4, 3.2, 4.5, 1.5],\n",
              "       [6.9, 3.1, 4.9, 1.5],\n",
              "       [5.5, 2.3, 4. , 1.3],\n",
              "       [6.5, 2.8, 4.6, 1.5],\n",
              "       [5.7, 2.8, 4.5, 1.3],\n",
              "       [6.3, 3.3, 4.7, 1.6],\n",
              "       [4.9, 2.4, 3.3, 1. ],\n",
              "       [6.6, 2.9, 4.6, 1.3],\n",
              "       [5.2, 2.7, 3.9, 1.4],\n",
              "       [5. , 2. , 3.5, 1. ],\n",
              "       [5.9, 3. , 4.2, 1.5],\n",
              "       [6. , 2.2, 4. , 1. ],\n",
              "       [6.1, 2.9, 4.7, 1.4],\n",
              "       [5.6, 2.9, 3.6, 1.3],\n",
              "       [6.7, 3.1, 4.4, 1.4],\n",
              "       [5.6, 3. , 4.5, 1.5],\n",
              "       [5.8, 2.7, 4.1, 1. ],\n",
              "       [6.2, 2.2, 4.5, 1.5],\n",
              "       [5.6, 2.5, 3.9, 1.1],\n",
              "       [5.9, 3.2, 4.8, 1.8],\n",
              "       [6.1, 2.8, 4. , 1.3],\n",
              "       [6.3, 2.5, 4.9, 1.5],\n",
              "       [6.1, 2.8, 4.7, 1.2],\n",
              "       [6.4, 2.9, 4.3, 1.3],\n",
              "       [6.6, 3. , 4.4, 1.4],\n",
              "       [6.8, 2.8, 4.8, 1.4],\n",
              "       [6.7, 3. , 5. , 1.7],\n",
              "       [6. , 2.9, 4.5, 1.5],\n",
              "       [5.7, 2.6, 3.5, 1. ],\n",
              "       [5.5, 2.4, 3.8, 1.1],\n",
              "       [5.5, 2.4, 3.7, 1. ],\n",
              "       [5.8, 2.7, 3.9, 1.2],\n",
              "       [6. , 2.7, 5.1, 1.6],\n",
              "       [5.4, 3. , 4.5, 1.5],\n",
              "       [6. , 3.4, 4.5, 1.6],\n",
              "       [6.7, 3.1, 4.7, 1.5],\n",
              "       [6.3, 2.3, 4.4, 1.3],\n",
              "       [5.6, 3. , 4.1, 1.3],\n",
              "       [5.5, 2.5, 4. , 1.3],\n",
              "       [5.5, 2.6, 4.4, 1.2],\n",
              "       [6.1, 3. , 4.6, 1.4],\n",
              "       [5.8, 2.6, 4. , 1.2],\n",
              "       [5. , 2.3, 3.3, 1. ],\n",
              "       [5.6, 2.7, 4.2, 1.3],\n",
              "       [5.7, 3. , 4.2, 1.2],\n",
              "       [5.7, 2.9, 4.2, 1.3],\n",
              "       [6.2, 2.9, 4.3, 1.3],\n",
              "       [5.1, 2.5, 3. , 1.1],\n",
              "       [5.7, 2.8, 4.1, 1.3],\n",
              "       [6.3, 3.3, 6. , 2.5],\n",
              "       [5.8, 2.7, 5.1, 1.9],\n",
              "       [7.1, 3. , 5.9, 2.1],\n",
              "       [6.3, 2.9, 5.6, 1.8],\n",
              "       [6.5, 3. , 5.8, 2.2],\n",
              "       [7.6, 3. , 6.6, 2.1],\n",
              "       [4.9, 2.5, 4.5, 1.7],\n",
              "       [7.3, 2.9, 6.3, 1.8],\n",
              "       [6.7, 2.5, 5.8, 1.8],\n",
              "       [7.2, 3.6, 6.1, 2.5],\n",
              "       [6.5, 3.2, 5.1, 2. ],\n",
              "       [6.4, 2.7, 5.3, 1.9],\n",
              "       [6.8, 3. , 5.5, 2.1],\n",
              "       [5.7, 2.5, 5. , 2. ],\n",
              "       [5.8, 2.8, 5.1, 2.4],\n",
              "       [6.4, 3.2, 5.3, 2.3],\n",
              "       [6.5, 3. , 5.5, 1.8],\n",
              "       [7.7, 3.8, 6.7, 2.2],\n",
              "       [7.7, 2.6, 6.9, 2.3],\n",
              "       [6. , 2.2, 5. , 1.5],\n",
              "       [6.9, 3.2, 5.7, 2.3],\n",
              "       [5.6, 2.8, 4.9, 2. ],\n",
              "       [7.7, 2.8, 6.7, 2. ],\n",
              "       [6.3, 2.7, 4.9, 1.8],\n",
              "       [6.7, 3.3, 5.7, 2.1],\n",
              "       [7.2, 3.2, 6. , 1.8],\n",
              "       [6.2, 2.8, 4.8, 1.8],\n",
              "       [6.1, 3. , 4.9, 1.8],\n",
              "       [6.4, 2.8, 5.6, 2.1],\n",
              "       [7.2, 3. , 5.8, 1.6],\n",
              "       [7.4, 2.8, 6.1, 1.9],\n",
              "       [7.9, 3.8, 6.4, 2. ],\n",
              "       [6.4, 2.8, 5.6, 2.2],\n",
              "       [6.3, 2.8, 5.1, 1.5],\n",
              "       [6.1, 2.6, 5.6, 1.4],\n",
              "       [7.7, 3. , 6.1, 2.3],\n",
              "       [6.3, 3.4, 5.6, 2.4],\n",
              "       [6.4, 3.1, 5.5, 1.8],\n",
              "       [6. , 3. , 4.8, 1.8],\n",
              "       [6.9, 3.1, 5.4, 2.1],\n",
              "       [6.7, 3.1, 5.6, 2.4],\n",
              "       [6.9, 3.1, 5.1, 2.3],\n",
              "       [5.8, 2.7, 5.1, 1.9],\n",
              "       [6.8, 3.2, 5.9, 2.3],\n",
              "       [6.7, 3.3, 5.7, 2.5],\n",
              "       [6.7, 3. , 5.2, 2.3],\n",
              "       [6.3, 2.5, 5. , 1.9],\n",
              "       [6.5, 3. , 5.2, 2. ],\n",
              "       [6.2, 3.4, 5.4, 2.3],\n",
              "       [5.9, 3. , 5.1, 1.8]])"
            ]
          },
          "execution_count": 3,
          "metadata": {},
          "output_type": "execute_result"
        }
      ],
      "source": [
        "X"
      ]
    },
    {
      "cell_type": "code",
      "execution_count": null,
      "id": "06ea3bf3",
      "metadata": {
        "id": "06ea3bf3",
        "outputId": "d1380e13-5dc4-4b77-d531-d5315f36ef23"
      },
      "outputs": [
        {
          "data": {
            "text/plain": [
              "array([0, 0, 0, 0, 0, 0, 0, 0, 0, 0, 0, 0, 0, 0, 0, 0, 0, 0, 0, 0, 0, 0,\n",
              "       0, 0, 0, 0, 0, 0, 0, 0, 0, 0, 0, 0, 0, 0, 0, 0, 0, 0, 0, 0, 0, 0,\n",
              "       0, 0, 0, 0, 0, 0, 1, 1, 1, 1, 1, 1, 1, 1, 1, 1, 1, 1, 1, 1, 1, 1,\n",
              "       1, 1, 1, 1, 1, 1, 1, 1, 1, 1, 1, 1, 1, 1, 1, 1, 1, 1, 1, 1, 1, 1,\n",
              "       1, 1, 1, 1, 1, 1, 1, 1, 1, 1, 1, 1, 2, 2, 2, 2, 2, 2, 2, 2, 2, 2,\n",
              "       2, 2, 2, 2, 2, 2, 2, 2, 2, 2, 2, 2, 2, 2, 2, 2, 2, 2, 2, 2, 2, 2,\n",
              "       2, 2, 2, 2, 2, 2, 2, 2, 2, 2, 2, 2, 2, 2, 2, 2, 2, 2])"
            ]
          },
          "execution_count": 4,
          "metadata": {},
          "output_type": "execute_result"
        }
      ],
      "source": [
        "y"
      ]
    },
    {
      "cell_type": "markdown",
      "id": "6c8b4f0b",
      "metadata": {
        "id": "6c8b4f0b"
      },
      "source": [
        "### About dataset"
      ]
    },
    {
      "cell_type": "markdown",
      "id": "9f05602e",
      "metadata": {
        "id": "9f05602e"
      },
      "source": [
        "The above dataset contains the information about three species(['setosa', 'versicolor', 'virginica']) of iris flower. Each data point conatins four features('sepal length (cm)', 'sepal width (cm)', 'petal length (cm)','petal width (cm)') of a single specicies. We have to predict the species name using these four features"
      ]
    },
    {
      "cell_type": "markdown",
      "id": "313d97be",
      "metadata": {
        "id": "313d97be"
      },
      "source": [
        "### Split dataset into train and test set"
      ]
    },
    {
      "cell_type": "code",
      "execution_count": null,
      "id": "45608fbe",
      "metadata": {
        "id": "45608fbe"
      },
      "outputs": [],
      "source": [
        "train_X,test_X,train_y,test_y=train_test_split(X,y,test_size=0.25,random_state=100)"
      ]
    },
    {
      "cell_type": "markdown",
      "id": "842c7b3f",
      "metadata": {
        "id": "842c7b3f"
      },
      "source": [
        "### Let's scale our dataset inorder to get a better performance"
      ]
    },
    {
      "cell_type": "code",
      "execution_count": null,
      "id": "73ecaecb",
      "metadata": {
        "id": "73ecaecb"
      },
      "outputs": [],
      "source": [
        "sc=StandardScaler()\n",
        "sc.fit(train_X,train_y)\n",
        "train_X=sc.transform(train_X)\n",
        "test_X=sc.transform(test_X)"
      ]
    },
    {
      "cell_type": "markdown",
      "id": "1b9ca3f8",
      "metadata": {
        "id": "1b9ca3f8"
      },
      "source": [
        "### Let's apply logisitic Regression algorith with default parameter"
      ]
    },
    {
      "cell_type": "code",
      "execution_count": null,
      "id": "ca00df04",
      "metadata": {
        "id": "ca00df04",
        "outputId": "349045dd-c6b6-4987-ec38-fda57445e7b2"
      },
      "outputs": [
        {
          "data": {
            "text/plain": [
              "LogisticRegression()"
            ]
          },
          "execution_count": 27,
          "metadata": {},
          "output_type": "execute_result"
        }
      ],
      "source": [
        "lr=LogisticRegression()\n",
        "lr.fit(train_X,train_y)"
      ]
    },
    {
      "cell_type": "markdown",
      "id": "74945304",
      "metadata": {
        "id": "74945304"
      },
      "source": [
        "make prediction on test set"
      ]
    },
    {
      "cell_type": "code",
      "execution_count": null,
      "id": "e4a47ceb",
      "metadata": {
        "id": "e4a47ceb"
      },
      "outputs": [],
      "source": [
        "pred=lr.predict(test_X)"
      ]
    },
    {
      "cell_type": "code",
      "execution_count": null,
      "id": "e2ca5688",
      "metadata": {
        "id": "e2ca5688",
        "outputId": "65a35f2c-d9e6-4d91-a456-4b7fbc6e2b16"
      },
      "outputs": [
        {
          "name": "stdout",
          "output_type": "stream",
          "text": [
            "Accuracy of the algorithm on train set  0.9553571428571429\n",
            "Accuracy of the algorithm on test set 0.9473684210526315\n",
            "Classification report \n",
            "               precision    recall  f1-score   support\n",
            "\n",
            "           0       1.00      1.00      1.00        14\n",
            "           1       0.90      0.90      0.90        10\n",
            "           2       0.93      0.93      0.93        14\n",
            "\n",
            "    accuracy                           0.95        38\n",
            "   macro avg       0.94      0.94      0.94        38\n",
            "weighted avg       0.95      0.95      0.95        38\n",
            " \n",
            "\n",
            "Confusion matrix \n",
            " [[14  0  0]\n",
            " [ 0  9  1]\n",
            " [ 0  1 13]]\n"
          ]
        }
      ],
      "source": [
        "print(\"Accuracy of the algorithm on train set \",accuracy_score(train_y,lr.predict(train_X)))\n",
        "print(\"Accuracy of the algorithm on test set\",accuracy_score(test_y,pred))\n",
        "print(\"Classification report \\n\",classification_report(test_y,pred),\"\\n\")\n",
        "print(\"Confusion matrix \\n\",confusion_matrix(test_y,pred))"
      ]
    },
    {
      "cell_type": "markdown",
      "id": "791b147e",
      "metadata": {
        "id": "791b147e"
      },
      "source": [
        "### Let's apply SVM algorithm on this dataset"
      ]
    },
    {
      "cell_type": "code",
      "execution_count": null,
      "id": "da135b61",
      "metadata": {
        "id": "da135b61",
        "outputId": "ce2d2637-0657-4830-f61d-b16344d1419d"
      },
      "outputs": [
        {
          "data": {
            "text/plain": [
              "SVC()"
            ]
          },
          "execution_count": 30,
          "metadata": {},
          "output_type": "execute_result"
        }
      ],
      "source": [
        "svm_clf=SVC()\n",
        "svm_clf.fit(train_X,train_y)"
      ]
    },
    {
      "cell_type": "markdown",
      "id": "c05256c4",
      "metadata": {
        "id": "c05256c4"
      },
      "source": [
        "make prediction on test set"
      ]
    },
    {
      "cell_type": "code",
      "execution_count": null,
      "id": "82a1bdb3",
      "metadata": {
        "id": "82a1bdb3"
      },
      "outputs": [],
      "source": [
        "pred=svm_clf.predict(test_X)"
      ]
    },
    {
      "cell_type": "code",
      "execution_count": null,
      "id": "1320154a",
      "metadata": {
        "id": "1320154a",
        "outputId": "354ac998-1b2a-4e7e-da9d-dbc3b11dae89"
      },
      "outputs": [
        {
          "name": "stdout",
          "output_type": "stream",
          "text": [
            "Accuracy of the algorithm on train set  0.9821428571428571\n",
            "Accuracy of the algorithm on test set 0.9736842105263158\n",
            "Classification report \n",
            "               precision    recall  f1-score   support\n",
            "\n",
            "           0       1.00      1.00      1.00        14\n",
            "           1       0.91      1.00      0.95        10\n",
            "           2       1.00      0.93      0.96        14\n",
            "\n",
            "    accuracy                           0.97        38\n",
            "   macro avg       0.97      0.98      0.97        38\n",
            "weighted avg       0.98      0.97      0.97        38\n",
            " \n",
            "\n",
            "Confusion matrix \n",
            " [[14  0  0]\n",
            " [ 0 10  0]\n",
            " [ 0  1 13]]\n"
          ]
        }
      ],
      "source": [
        "print(\"Accuracy of the algorithm on train set \",accuracy_score(train_y,svm_clf.predict(train_X)))\n",
        "print(\"Accuracy of the algorithm on test set\",accuracy_score(test_y,pred))\n",
        "print(\"Classification report \\n\",classification_report(test_y,pred),\"\\n\")\n",
        "print(\"Confusion matrix \\n\",confusion_matrix(test_y,pred))"
      ]
    },
    {
      "cell_type": "markdown",
      "id": "1f0e7e09",
      "metadata": {
        "id": "1f0e7e09"
      },
      "source": [
        "### Let's apply KNearest Neighbors algorithm on this dataset"
      ]
    },
    {
      "cell_type": "code",
      "execution_count": null,
      "id": "d992cce0",
      "metadata": {
        "id": "d992cce0",
        "outputId": "86836b14-5b7b-4220-9d94-063e90b31556"
      },
      "outputs": [
        {
          "data": {
            "text/plain": [
              "KNeighborsClassifier()"
            ]
          },
          "execution_count": 15,
          "metadata": {},
          "output_type": "execute_result"
        }
      ],
      "source": [
        "knn=KNeighborsClassifier(n_neighbors=5)\n",
        "knn.fit(train_X,train_y)"
      ]
    },
    {
      "cell_type": "markdown",
      "id": "d76e7f13",
      "metadata": {
        "id": "d76e7f13"
      },
      "source": [
        "make prediction on test set"
      ]
    },
    {
      "cell_type": "code",
      "execution_count": null,
      "id": "38e350fc",
      "metadata": {
        "id": "38e350fc"
      },
      "outputs": [],
      "source": [
        "pred=knn.predict(test_X)"
      ]
    },
    {
      "cell_type": "code",
      "execution_count": null,
      "id": "54e53656",
      "metadata": {
        "id": "54e53656",
        "outputId": "39f5882d-1681-4e66-80b3-802aa0ff3b56"
      },
      "outputs": [
        {
          "name": "stdout",
          "output_type": "stream",
          "text": [
            "Accuracy of the algorithm on train set  0.9732142857142857\n",
            "Accuracy of the algorithm on test set 0.9736842105263158\n",
            "Classification report \n",
            "               precision    recall  f1-score   support\n",
            "\n",
            "           0       1.00      1.00      1.00        14\n",
            "           1       0.91      1.00      0.95        10\n",
            "           2       1.00      0.93      0.96        14\n",
            "\n",
            "    accuracy                           0.97        38\n",
            "   macro avg       0.97      0.98      0.97        38\n",
            "weighted avg       0.98      0.97      0.97        38\n",
            " \n",
            "\n",
            "Confusion matrix \n",
            " [[14  0  0]\n",
            " [ 0 10  0]\n",
            " [ 0  1 13]]\n"
          ]
        }
      ],
      "source": [
        "print(\"Accuracy of the algorithm on train set \",accuracy_score(train_y,knn.predict(train_X)))\n",
        "print(\"Accuracy of the algorithm on test set\",accuracy_score(test_y,pred))\n",
        "print(\"Classification report \\n\",classification_report(test_y,pred),\"\\n\")\n",
        "print(\"Confusion matrix \\n\",confusion_matrix(test_y,pred))"
      ]
    },
    {
      "cell_type": "markdown",
      "id": "d08e7757",
      "metadata": {
        "id": "d08e7757"
      },
      "source": [
        "### Let's apply neural network on this dataset"
      ]
    },
    {
      "cell_type": "code",
      "execution_count": null,
      "id": "28643ae0",
      "metadata": {
        "id": "28643ae0",
        "outputId": "3e865e4e-7093-4b40-e0f8-56af335d5db1"
      },
      "outputs": [
        {
          "data": {
            "text/plain": [
              "MLPClassifier(max_iter=500)"
            ]
          },
          "execution_count": 18,
          "metadata": {},
          "output_type": "execute_result"
        }
      ],
      "source": [
        "neural_clf=MLPClassifier(max_iter=500)\n",
        "neural_clf.fit(train_X,train_y)"
      ]
    },
    {
      "cell_type": "markdown",
      "id": "04af9a3d",
      "metadata": {
        "id": "04af9a3d"
      },
      "source": [
        "make prediction on test set"
      ]
    },
    {
      "cell_type": "code",
      "execution_count": null,
      "id": "4cd8b72a",
      "metadata": {
        "id": "4cd8b72a"
      },
      "outputs": [],
      "source": [
        "pred=neural_clf.predict(test_X)"
      ]
    },
    {
      "cell_type": "code",
      "execution_count": null,
      "id": "3dcae272",
      "metadata": {
        "id": "3dcae272",
        "outputId": "d2ab9aaf-b038-4d2e-e105-2ff4792755c1"
      },
      "outputs": [
        {
          "name": "stdout",
          "output_type": "stream",
          "text": [
            "Accuracy of the algorithm on train set  0.9821428571428571\n",
            "Accuracy of the algorithm on test set 0.9473684210526315\n",
            "Classification report \n",
            "               precision    recall  f1-score   support\n",
            "\n",
            "           0       1.00      1.00      1.00        14\n",
            "           1       0.90      0.90      0.90        10\n",
            "           2       0.93      0.93      0.93        14\n",
            "\n",
            "    accuracy                           0.95        38\n",
            "   macro avg       0.94      0.94      0.94        38\n",
            "weighted avg       0.95      0.95      0.95        38\n",
            " \n",
            "\n",
            "Confusion matrix \n",
            " [[14  0  0]\n",
            " [ 0  9  1]\n",
            " [ 0  1 13]]\n"
          ]
        }
      ],
      "source": [
        "print(\"Accuracy of the algorithm on train set \",accuracy_score(train_y,neural_clf.predict(train_X)))\n",
        "print(\"Accuracy of the algorithm on test set\",accuracy_score(test_y,pred))\n",
        "print(\"Classification report \\n\",classification_report(test_y,pred),\"\\n\")\n",
        "print(\"Confusion matrix \\n\",confusion_matrix(test_y,pred))"
      ]
    },
    {
      "cell_type": "markdown",
      "id": "f51d38f5",
      "metadata": {
        "id": "f51d38f5"
      },
      "source": [
        "### Conclusion"
      ]
    },
    {
      "cell_type": "markdown",
      "id": "d6bd0156",
      "metadata": {
        "id": "d6bd0156"
      },
      "source": [
        "By applying LogisticRegression, Support Vector Machine, Knearestneighbors and neural netwrok algorithms, It has been observed that out of all algorithsm , KNN and SVM performed equally well on test set, only SVM has a little high score on train set. Hence it is overfitting a bit on train set. Hence KNN with 5 nearest neighbors is best for our use case."
      ]
    },
    {
      "cell_type": "code",
      "execution_count": null,
      "id": "346d2fa1",
      "metadata": {
        "id": "346d2fa1"
      },
      "outputs": [],
      "source": [
        ""
      ]
    }
  ],
  "metadata": {
    "kernelspec": {
      "display_name": "Python 3",
      "language": "python",
      "name": "python3"
    },
    "language_info": {
      "codemirror_mode": {
        "name": "ipython",
        "version": 3
      },
      "file_extension": ".py",
      "mimetype": "text/x-python",
      "name": "python",
      "nbconvert_exporter": "python",
      "pygments_lexer": "ipython3",
      "version": "3.8.8"
    },
    "colab": {
      "name": "Aiman_Fiaz-Assignment4.ipynb",
      "provenance": []
    }
  },
  "nbformat": 4,
  "nbformat_minor": 5
}